{
  "nbformat": 4,
  "nbformat_minor": 0,
  "metadata": {
    "colab": {
      "provenance": []
    },
    "kernelspec": {
      "name": "python3",
      "display_name": "Python 3"
    },
    "language_info": {
      "name": "python"
    }
  },
  "cells": [
    {
      "cell_type": "code",
      "execution_count": null,
      "metadata": {
        "id": "lUu-60pcqYyn"
      },
      "outputs": [],
      "source": [
        "def tupelcek(t):\n",
        "    return len(set(t)) == 1\n",
        "#penggunaan program\n",
        "t1 = (90, 90, 90, 90)\n",
        "print(tupelcek(t1))"
      ]
    },
    {
      "cell_type": "code",
      "source": [
        "# Data diri\n",
        "data = ('71230967', 'alphantius vincent bhakti', 'baciro')\n",
        "nim, nama, alamat = data\n",
        "# Membuat tuple dari NIM dan nama depan\n",
        "tuplenim = tuple(nim)\n",
        "namadepan = tuple(nama.split()[0])\n",
        "# Membalik nama\n",
        "balik = nama.split()[::-1]\n",
        "#OUTPPUT\n",
        "print(\"NIM :\", nim)\n",
        "print(\"NAMA :\", nama)\n",
        "print(\"ALAMAT :\", alamat)\n",
        "print(\"NIM:\", tuplenim)\n",
        "print(\"NAMA DEPAN:\", namadepan)\n",
        "print(\"NAMA TERBALIK:\", tuple(balik))"
      ],
      "metadata": {
        "id": "aZbd1U3kqZTZ"
      },
      "execution_count": null,
      "outputs": []
    },
    {
      "cell_type": "code",
      "source": [
        "def hitungemail():\n",
        "    inputan = input(\"Masukkan nama file: \")\n",
        "    counts = {}\n",
        "    try:\n",
        "        with open(inputan, 'r') as f:\n",
        "            for line in f:\n",
        "                if line.startswith('From '):\n",
        "                    counts[line.split()[5].split(':')[0]] = counts.get(line.split()[5].split(':')[0], 0) + 1\n",
        "\n",
        "        for jam in sorted(counts):\n",
        "            print(jam, counts[jam])\n",
        "    except FileNotFoundError:\n",
        "        print(\"File tidak ditemukan.\")\n",
        "\n",
        "# Menggunakan fungsi\n",
        "hitungemail()"
      ],
      "metadata": {
        "id": "VDKKitLdqZWU"
      },
      "execution_count": null,
      "outputs": []
    }
  ]
}